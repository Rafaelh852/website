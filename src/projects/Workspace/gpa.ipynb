{
 "cells": [
  {
   "cell_type": "code",
   "execution_count": 63,
   "metadata": {},
   "outputs": [],
   "source": [
    "import numpy as np\n",
    "import pandas as pd\n",
    "import matplotlib.pyplot as plt\n",
    "import xgboost as xgb\n",
    "from itertools import combinations_with_replacement"
   ]
  },
  {
   "cell_type": "code",
   "execution_count": 18,
   "metadata": {},
   "outputs": [],
   "source": [
    "file = pd.read_excel(\"grading.xlsx\")"
   ]
  },
  {
   "cell_type": "code",
   "execution_count": 19,
   "metadata": {},
   "outputs": [],
   "source": [
    "df = file[[\"SUBJ\",\"CLASS\",'GRADE','PROF','GP','SEM']]"
   ]
  },
  {
   "cell_type": "code",
   "execution_count": 20,
   "metadata": {},
   "outputs": [],
   "source": [
    "df = df.dropna()"
   ]
  },
  {
   "cell_type": "code",
   "execution_count": 21,
   "metadata": {},
   "outputs": [
    {
     "data": {
      "text/html": [
       "<div>\n",
       "<style scoped>\n",
       "    .dataframe tbody tr th:only-of-type {\n",
       "        vertical-align: middle;\n",
       "    }\n",
       "\n",
       "    .dataframe tbody tr th {\n",
       "        vertical-align: top;\n",
       "    }\n",
       "\n",
       "    .dataframe thead th {\n",
       "        text-align: right;\n",
       "    }\n",
       "</style>\n",
       "<table border=\"1\" class=\"dataframe\">\n",
       "  <thead>\n",
       "    <tr style=\"text-align: right;\">\n",
       "      <th></th>\n",
       "      <th>SUBJ</th>\n",
       "      <th>CLASS</th>\n",
       "      <th>GRADE</th>\n",
       "      <th>PROF</th>\n",
       "      <th>GP</th>\n",
       "      <th>SEM</th>\n",
       "    </tr>\n",
       "  </thead>\n",
       "  <tbody>\n",
       "    <tr>\n",
       "      <th>36</th>\n",
       "      <td>ECON</td>\n",
       "      <td>MICRO ECON</td>\n",
       "      <td>F</td>\n",
       "      <td>0.0</td>\n",
       "      <td>0</td>\n",
       "      <td>SEM1</td>\n",
       "    </tr>\n",
       "    <tr>\n",
       "      <th>37</th>\n",
       "      <td>MATH</td>\n",
       "      <td>ODE 1</td>\n",
       "      <td>B</td>\n",
       "      <td>3.0</td>\n",
       "      <td>3</td>\n",
       "      <td>SEM1</td>\n",
       "    </tr>\n",
       "    <tr>\n",
       "      <th>38</th>\n",
       "      <td>MATH</td>\n",
       "      <td>380 PROB</td>\n",
       "      <td>C</td>\n",
       "      <td>1.0</td>\n",
       "      <td>2</td>\n",
       "      <td>SEM1</td>\n",
       "    </tr>\n",
       "    <tr>\n",
       "      <th>39</th>\n",
       "      <td>SCIENCE</td>\n",
       "      <td>151 MECHANICS AND HEAD</td>\n",
       "      <td>B</td>\n",
       "      <td>3.0</td>\n",
       "      <td>3</td>\n",
       "      <td>SEM1</td>\n",
       "    </tr>\n",
       "    <tr>\n",
       "      <th>40</th>\n",
       "      <td>GE</td>\n",
       "      <td>WALKING</td>\n",
       "      <td>D</td>\n",
       "      <td>0.0</td>\n",
       "      <td>1</td>\n",
       "      <td>SEM2</td>\n",
       "    </tr>\n",
       "  </tbody>\n",
       "</table>\n",
       "</div>"
      ],
      "text/plain": [
       "       SUBJ                   CLASS GRADE  PROF  GP    SEM\n",
       "36     ECON              MICRO ECON     F   0.0   0  SEM1 \n",
       "37     MATH                   ODE 1     B   3.0   3  SEM1 \n",
       "38     MATH                380 PROB     C   1.0   2  SEM1 \n",
       "39  SCIENCE  151 MECHANICS AND HEAD     B   3.0   3  SEM1 \n",
       "40       GE                 WALKING     D   0.0   1   SEM2"
      ]
     },
     "execution_count": 21,
     "metadata": {},
     "output_type": "execute_result"
    }
   ],
   "source": [
    "df.head()"
   ]
  },
  {
   "cell_type": "code",
   "execution_count": 48,
   "metadata": {},
   "outputs": [
    {
     "data": {
      "text/plain": [
       "SUBJ_ECON        3\n",
       "SUBJ_GE          5\n",
       "SUBJ_MATH       22\n",
       "SUBJ_SCIENCE     7\n",
       "GRADE_A         10\n",
       "GRADE_B         12\n",
       "GRADE_C         11\n",
       "GRADE_D          1\n",
       "GRADE_F          1\n",
       "GRADE_W          2\n",
       "dtype: int64"
      ]
     },
     "execution_count": 48,
     "metadata": {},
     "output_type": "execute_result"
    }
   ],
   "source": [
    "pd.get_dummies(df[['SUBJ',\"GRADE\"]]).sum()"
   ]
  },
  {
   "cell_type": "code",
   "execution_count": 44,
   "metadata": {},
   "outputs": [],
   "source": [
    "semester = df[\"SEM\"].unique()"
   ]
  },
  {
   "cell_type": "code",
   "execution_count": 129,
   "metadata": {},
   "outputs": [
    {
     "name": "stdout",
     "output_type": "stream",
     "text": [
      "2.68\n",
      "0.6079473661428265\n",
      "2.7738784\n",
      "SEM\n",
      "SEM1     2.0\n",
      "SEM10    1.5\n",
      "SEM2     2.8\n",
      "SEM3     2.5\n",
      "SEM4     2.2\n",
      "SEM5     3.0\n",
      "SEM6     2.8\n",
      "SEM7     3.0\n",
      "SEM8     3.5\n",
      "SEM9     3.5\n",
      "Name: GP, dtype: float64\n"
     ]
    }
   ],
   "source": [
    "gpa_by_sem = df.groupby(\"SEM\")[\"GP\"].mean()\n",
    "print(np.mean(gpa_by_sem))\n",
    "print(np.std(gpa_by_sem))\n",
    "print(2.68+2.54*(np.var(gpa_by_sem)/10))\n",
    "print(gpa_by_sem)"
   ]
  },
  {
   "cell_type": "code",
   "execution_count": 77,
   "metadata": {},
   "outputs": [],
   "source": [
    "x = [\"A\",\"B\",\"C\",\"D\",\"F\",\"W\"]\n",
    "\n",
    "arr = []\n",
    "dict = pd.DataFrame({})\n",
    "for c in list(combinations_with_replacement(x,3)):\n",
    "    col = concatArray(c)\n",
    "    arr.append(col)\n",
    "    dict[col] = \"\""
   ]
  },
  {
   "cell_type": "code",
   "execution_count": 111,
   "metadata": {},
   "outputs": [],
   "source": [
    "def concatArray(x):\n",
    "    s = \"\"\n",
    "    for y in x:\n",
    "        s += y\n",
    "    return s"
   ]
  },
  {
   "cell_type": "markdown",
   "metadata": {},
   "source": [
    "\n",
    "GRADE_A         10\n",
    "GRADE_B         12\n",
    "GRADE_C         11\n",
    "GRADE_D          1\n",
    "GRADE_F          1\n",
    "GRADE_W          2"
   ]
  },
  {
   "cell_type": "code",
   "execution_count": 134,
   "metadata": {},
   "outputs": [
    {
     "name": "stdout",
     "output_type": "stream",
     "text": [
      "[3, 3, 4, 2]\n",
      "BBAC\n",
      "3.0\n"
     ]
    }
   ],
   "source": [
    "n_courses = 4\n",
    "\n",
    "x = [\"A\",\"B\",\"C\",\"D\",\"F\",\"W\"]\n",
    "y = np.array([10,12,11,1,1,2])\n",
    "probs = np.round(y/sum(y),2)\n",
    "\n",
    "projected_grades = np.random.choice(x, n_courses, p = probs )\n",
    "weighted_grades = {\"A\":4,\"B\":3,\"C\":2,\"D\":1,\"F\":0,\"W\":2.69}\n",
    "grades = [weighted_grades.get(item,item) for item in projected_grades]\n",
    "\n",
    "print(grades)\n",
    "print(concatArray(projected_grades))\n",
    "print(round(np.mean(grades),2))"
   ]
  },
  {
   "cell_type": "code",
   "execution_count": 133,
   "metadata": {},
   "outputs": [
    {
     "data": {
      "text/plain": [
       "2.67"
      ]
     },
     "execution_count": 133,
     "metadata": {},
     "output_type": "execute_result"
    }
   ],
   "source": [
    "sum(np.array([4,3,2,1,0,0])*probs)"
   ]
  },
  {
   "cell_type": "code",
   "execution_count": 74,
   "metadata": {},
   "outputs": [
    {
     "data": {
      "text/plain": [
       "SEM\n",
       "SEM1      FBCB\n",
       "SEM10       WB\n",
       "SEM2     DAACB\n",
       "SEM3      CBBC\n",
       "SEM4     WCABC\n",
       "SEM5        CA\n",
       "SEM6     CBACB\n",
       "SEM7      BABC\n",
       "SEM8        AB\n",
       "SEM9      AACA\n",
       "Name: GRADE, dtype: object"
      ]
     },
     "execution_count": 74,
     "metadata": {},
     "output_type": "execute_result"
    }
   ],
   "source": [
    "df.groupby(\"SEM\")[\"GRADE\"].agg(concatArray)"
   ]
  },
  {
   "cell_type": "code",
   "execution_count": null,
   "metadata": {},
   "outputs": [],
   "source": []
  }
 ],
 "metadata": {
  "interpreter": {
   "hash": "976d656e89d0a9cf91ecfb4a134be3174c143c7b49f33714545bc0a56a2580d8"
  },
  "kernelspec": {
   "display_name": "Python 3.10.4 ('venv': venv)",
   "language": "python",
   "name": "python3"
  },
  "language_info": {
   "codemirror_mode": {
    "name": "ipython",
    "version": 3
   },
   "file_extension": ".py",
   "mimetype": "text/x-python",
   "name": "python",
   "nbconvert_exporter": "python",
   "pygments_lexer": "ipython3",
   "version": "3.10.4"
  },
  "orig_nbformat": 4
 },
 "nbformat": 4,
 "nbformat_minor": 2
}
