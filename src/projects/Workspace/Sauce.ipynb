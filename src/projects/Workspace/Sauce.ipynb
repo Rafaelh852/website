{
 "cells": [
  {
   "cell_type": "code",
   "execution_count": 1,
   "metadata": {},
   "outputs": [],
   "source": [
    "import numpy as np\n",
    "import pandas as pd\n",
    "import random\n",
    "import os\n",
    "import statsmodels.api as sm \n",
    "import statsmodels.formula as smf"
   ]
  },
  {
   "cell_type": "code",
   "execution_count": 2,
   "metadata": {},
   "outputs": [],
   "source": [
    "df = pd.read_excel(\"./june inv breakdown.xlsx\")"
   ]
  },
  {
   "cell_type": "code",
   "execution_count": 3,
   "metadata": {},
   "outputs": [
    {
     "data": {
      "text/html": [
       "<div>\n",
       "<style scoped>\n",
       "    .dataframe tbody tr th:only-of-type {\n",
       "        vertical-align: middle;\n",
       "    }\n",
       "\n",
       "    .dataframe tbody tr th {\n",
       "        vertical-align: top;\n",
       "    }\n",
       "\n",
       "    .dataframe thead th {\n",
       "        text-align: right;\n",
       "    }\n",
       "</style>\n",
       "<table border=\"1\" class=\"dataframe\">\n",
       "  <thead>\n",
       "    <tr style=\"text-align: right;\">\n",
       "      <th></th>\n",
       "      <th>The Secret Sauce Gaming Inventory</th>\n",
       "      <th>Unnamed: 1</th>\n",
       "      <th>Unnamed: 2</th>\n",
       "      <th>Unnamed: 3</th>\n",
       "      <th>Unnamed: 4</th>\n",
       "      <th>Unnamed: 5</th>\n",
       "      <th>Unnamed: 6</th>\n",
       "    </tr>\n",
       "  </thead>\n",
       "  <tbody>\n",
       "    <tr>\n",
       "      <th>0</th>\n",
       "      <td>Franchise</td>\n",
       "      <td>Type</td>\n",
       "      <td>Product name</td>\n",
       "      <td>Quantity</td>\n",
       "      <td>Cost</td>\n",
       "      <td>Retail</td>\n",
       "      <td>Total cost of Inv</td>\n",
       "    </tr>\n",
       "    <tr>\n",
       "      <th>1</th>\n",
       "      <td>YGO</td>\n",
       "      <td>Box</td>\n",
       "      <td>Ygo Speed Duel Gx Box</td>\n",
       "      <td>24</td>\n",
       "      <td>16.5</td>\n",
       "      <td>25</td>\n",
       "      <td>396</td>\n",
       "    </tr>\n",
       "    <tr>\n",
       "      <th>2</th>\n",
       "      <td>YGO</td>\n",
       "      <td>Booster box</td>\n",
       "      <td>Ghost From the Past 1</td>\n",
       "      <td>9</td>\n",
       "      <td>90</td>\n",
       "      <td>140</td>\n",
       "      <td>810</td>\n",
       "    </tr>\n",
       "    <tr>\n",
       "      <th>3</th>\n",
       "      <td>PKM</td>\n",
       "      <td>Lunchbox</td>\n",
       "      <td>Arcius Lunchbox</td>\n",
       "      <td>15</td>\n",
       "      <td>16.5</td>\n",
       "      <td>25</td>\n",
       "      <td>247.5</td>\n",
       "    </tr>\n",
       "    <tr>\n",
       "      <th>4</th>\n",
       "      <td>PKM</td>\n",
       "      <td>Giftbox</td>\n",
       "      <td>Arcius Giftbox</td>\n",
       "      <td>5</td>\n",
       "      <td>18.5</td>\n",
       "      <td>25</td>\n",
       "      <td>92.5</td>\n",
       "    </tr>\n",
       "  </tbody>\n",
       "</table>\n",
       "</div>"
      ],
      "text/plain": [
       "  The Secret Sauce Gaming Inventory   Unnamed: 1              Unnamed: 2  \\\n",
       "0                         Franchise         Type           Product name    \n",
       "1                               YGO          Box  Ygo Speed Duel Gx Box    \n",
       "2                               YGO  Booster box   Ghost From the Past 1   \n",
       "3                               PKM     Lunchbox        Arcius Lunchbox    \n",
       "4                               PKM      Giftbox          Arcius Giftbox   \n",
       "\n",
       "  Unnamed: 3 Unnamed: 4 Unnamed: 5         Unnamed: 6  \n",
       "0  Quantity       Cost     Retail   Total cost of Inv  \n",
       "1         24       16.5         25                396  \n",
       "2          9         90        140                810  \n",
       "3         15       16.5         25              247.5  \n",
       "4          5       18.5         25               92.5  "
      ]
     },
     "execution_count": 3,
     "metadata": {},
     "output_type": "execute_result"
    }
   ],
   "source": [
    "df.head()"
   ]
  },
  {
   "cell_type": "code",
   "execution_count": 14,
   "metadata": {},
   "outputs": [],
   "source": [
    "df = df.rename(columns = df.loc[0])[1:]"
   ]
  },
  {
   "cell_type": "code",
   "execution_count": 17,
   "metadata": {},
   "outputs": [
    {
     "data": {
      "text/html": [
       "<div>\n",
       "<style scoped>\n",
       "    .dataframe tbody tr th:only-of-type {\n",
       "        vertical-align: middle;\n",
       "    }\n",
       "\n",
       "    .dataframe tbody tr th {\n",
       "        vertical-align: top;\n",
       "    }\n",
       "\n",
       "    .dataframe thead th {\n",
       "        text-align: right;\n",
       "    }\n",
       "</style>\n",
       "<table border=\"1\" class=\"dataframe\">\n",
       "  <thead>\n",
       "    <tr style=\"text-align: right;\">\n",
       "      <th></th>\n",
       "      <th>Franchise</th>\n",
       "      <th>Type</th>\n",
       "      <th>Product name</th>\n",
       "      <th>Quantity</th>\n",
       "      <th>Cost</th>\n",
       "      <th>Retail</th>\n",
       "      <th>Total cost of Inv</th>\n",
       "    </tr>\n",
       "  </thead>\n",
       "  <tbody>\n",
       "    <tr>\n",
       "      <th>1</th>\n",
       "      <td>YGO</td>\n",
       "      <td>Box</td>\n",
       "      <td>Ygo Speed Duel Gx Box</td>\n",
       "      <td>24</td>\n",
       "      <td>16.5</td>\n",
       "      <td>25</td>\n",
       "      <td>396</td>\n",
       "    </tr>\n",
       "    <tr>\n",
       "      <th>2</th>\n",
       "      <td>YGO</td>\n",
       "      <td>Booster box</td>\n",
       "      <td>Ghost From the Past 1</td>\n",
       "      <td>9</td>\n",
       "      <td>90</td>\n",
       "      <td>140</td>\n",
       "      <td>810</td>\n",
       "    </tr>\n",
       "    <tr>\n",
       "      <th>3</th>\n",
       "      <td>PKM</td>\n",
       "      <td>Lunchbox</td>\n",
       "      <td>Arcius Lunchbox</td>\n",
       "      <td>15</td>\n",
       "      <td>16.5</td>\n",
       "      <td>25</td>\n",
       "      <td>247.5</td>\n",
       "    </tr>\n",
       "    <tr>\n",
       "      <th>4</th>\n",
       "      <td>PKM</td>\n",
       "      <td>Giftbox</td>\n",
       "      <td>Arcius Giftbox</td>\n",
       "      <td>5</td>\n",
       "      <td>18.5</td>\n",
       "      <td>25</td>\n",
       "      <td>92.5</td>\n",
       "    </tr>\n",
       "    <tr>\n",
       "      <th>5</th>\n",
       "      <td>PKM</td>\n",
       "      <td>Giftbox</td>\n",
       "      <td>Pikachu V Union</td>\n",
       "      <td>3</td>\n",
       "      <td>18.5</td>\n",
       "      <td>30</td>\n",
       "      <td>55.5</td>\n",
       "    </tr>\n",
       "    <tr>\n",
       "      <th>6</th>\n",
       "      <td>PKM</td>\n",
       "      <td>Booster box</td>\n",
       "      <td>Brilliant Stars Booster Box</td>\n",
       "      <td>3</td>\n",
       "      <td>130</td>\n",
       "      <td>160</td>\n",
       "      <td>390</td>\n",
       "    </tr>\n",
       "    <tr>\n",
       "      <th>7</th>\n",
       "      <td>PKM</td>\n",
       "      <td>Booster box</td>\n",
       "      <td>Evolving Skies Booster Box</td>\n",
       "      <td>1</td>\n",
       "      <td>145</td>\n",
       "      <td>180</td>\n",
       "      <td>145</td>\n",
       "    </tr>\n",
       "    <tr>\n",
       "      <th>8</th>\n",
       "      <td>PKM</td>\n",
       "      <td>Toy</td>\n",
       "      <td>Poke Ball Toy</td>\n",
       "      <td>2</td>\n",
       "      <td>12.5</td>\n",
       "      <td>20</td>\n",
       "      <td>25</td>\n",
       "    </tr>\n",
       "    <tr>\n",
       "      <th>9</th>\n",
       "      <td>PKM</td>\n",
       "      <td>Giftbox</td>\n",
       "      <td>Pikachu V Box</td>\n",
       "      <td>6</td>\n",
       "      <td>13.5</td>\n",
       "      <td>20</td>\n",
       "      <td>81</td>\n",
       "    </tr>\n",
       "    <tr>\n",
       "      <th>10</th>\n",
       "      <td>PKM</td>\n",
       "      <td>Giftbox</td>\n",
       "      <td>Pikachu V Max</td>\n",
       "      <td>6</td>\n",
       "      <td>45</td>\n",
       "      <td>65</td>\n",
       "      <td>270</td>\n",
       "    </tr>\n",
       "  </tbody>\n",
       "</table>\n",
       "</div>"
      ],
      "text/plain": [
       "   Franchise         Type                Product name  Quantity  Cost   \\\n",
       "1        YGO          Box       Ygo Speed Duel Gx Box         24  16.5   \n",
       "2        YGO  Booster box        Ghost From the Past 1         9    90   \n",
       "3        PKM     Lunchbox             Arcius Lunchbox         15  16.5   \n",
       "4        PKM      Giftbox               Arcius Giftbox         5  18.5   \n",
       "5        PKM      Giftbox             Pikachu V Union          3  18.5   \n",
       "6        PKM  Booster box  Brilliant Stars Booster Box         3   130   \n",
       "7        PKM  Booster box   Evolving Skies Booster Box         1   145   \n",
       "8        PKM          Toy                Poke Ball Toy         2  12.5   \n",
       "9        PKM      Giftbox                Pikachu V Box         6  13.5   \n",
       "10       PKM      Giftbox                Pikachu V Max         6    45   \n",
       "\n",
       "   Retail  Total cost of Inv  \n",
       "1       25               396  \n",
       "2      140               810  \n",
       "3       25             247.5  \n",
       "4       25              92.5  \n",
       "5       30              55.5  \n",
       "6      160               390  \n",
       "7      180               145  \n",
       "8       20                25  \n",
       "9       20                81  \n",
       "10      65               270  "
      ]
     },
     "execution_count": 17,
     "metadata": {},
     "output_type": "execute_result"
    }
   ],
   "source": [
    "df.head(10)"
   ]
  },
  {
   "cell_type": "code",
   "execution_count": 53,
   "metadata": {},
   "outputs": [],
   "source": [
    "df[\"Total Cost\"] = df[\"Quantity \"]*df[\"Cost \"]\n",
    "df[\"Total Retail\"] = df[\"Quantity \"]*df[\"Retail \"]"
   ]
  },
  {
   "cell_type": "code",
   "execution_count": 59,
   "metadata": {},
   "outputs": [
    {
     "name": "stdout",
     "output_type": "stream",
     "text": [
      "6388.03\n",
      "10803\n",
      "4414.97 0.6911316947478332\n"
     ]
    }
   ],
   "source": [
    "print(df[\"Total Cost\"].sum())\n",
    "print(df[\"Total Retail\"].sum())\n",
    "print(10803-6388.03,df[\"Total Retail\"].sum()/df[\"Total Cost\"].sum()-1)"
   ]
  },
  {
   "cell_type": "code",
   "execution_count": 49,
   "metadata": {},
   "outputs": [],
   "source": [
    "df = df.drop(columns = [df.columns[6]])"
   ]
  },
  {
   "cell_type": "code",
   "execution_count": 54,
   "metadata": {},
   "outputs": [
    {
     "data": {
      "text/html": [
       "<div>\n",
       "<style scoped>\n",
       "    .dataframe tbody tr th:only-of-type {\n",
       "        vertical-align: middle;\n",
       "    }\n",
       "\n",
       "    .dataframe tbody tr th {\n",
       "        vertical-align: top;\n",
       "    }\n",
       "\n",
       "    .dataframe thead th {\n",
       "        text-align: right;\n",
       "    }\n",
       "</style>\n",
       "<table border=\"1\" class=\"dataframe\">\n",
       "  <thead>\n",
       "    <tr style=\"text-align: right;\">\n",
       "      <th></th>\n",
       "      <th>Franchise</th>\n",
       "      <th>Type</th>\n",
       "      <th>Product name</th>\n",
       "      <th>Quantity</th>\n",
       "      <th>Cost</th>\n",
       "      <th>Retail</th>\n",
       "      <th>Total Cost</th>\n",
       "      <th>Total Retail</th>\n",
       "    </tr>\n",
       "  </thead>\n",
       "  <tbody>\n",
       "    <tr>\n",
       "      <th>1</th>\n",
       "      <td>YGO</td>\n",
       "      <td>Box</td>\n",
       "      <td>Ygo Speed Duel Gx Box</td>\n",
       "      <td>24</td>\n",
       "      <td>16.5</td>\n",
       "      <td>25</td>\n",
       "      <td>396.0</td>\n",
       "      <td>600</td>\n",
       "    </tr>\n",
       "    <tr>\n",
       "      <th>2</th>\n",
       "      <td>YGO</td>\n",
       "      <td>Booster box</td>\n",
       "      <td>Ghost From the Past 1</td>\n",
       "      <td>9</td>\n",
       "      <td>90</td>\n",
       "      <td>140</td>\n",
       "      <td>810</td>\n",
       "      <td>1260</td>\n",
       "    </tr>\n",
       "    <tr>\n",
       "      <th>3</th>\n",
       "      <td>PKM</td>\n",
       "      <td>Lunchbox</td>\n",
       "      <td>Arcius Lunchbox</td>\n",
       "      <td>15</td>\n",
       "      <td>16.5</td>\n",
       "      <td>25</td>\n",
       "      <td>247.5</td>\n",
       "      <td>375</td>\n",
       "    </tr>\n",
       "    <tr>\n",
       "      <th>4</th>\n",
       "      <td>PKM</td>\n",
       "      <td>Giftbox</td>\n",
       "      <td>Arcius Giftbox</td>\n",
       "      <td>5</td>\n",
       "      <td>18.5</td>\n",
       "      <td>25</td>\n",
       "      <td>92.5</td>\n",
       "      <td>125</td>\n",
       "    </tr>\n",
       "    <tr>\n",
       "      <th>5</th>\n",
       "      <td>PKM</td>\n",
       "      <td>Giftbox</td>\n",
       "      <td>Pikachu V Union</td>\n",
       "      <td>3</td>\n",
       "      <td>18.5</td>\n",
       "      <td>30</td>\n",
       "      <td>55.5</td>\n",
       "      <td>90</td>\n",
       "    </tr>\n",
       "  </tbody>\n",
       "</table>\n",
       "</div>"
      ],
      "text/plain": [
       "  Franchise         Type           Product name  Quantity  Cost  Retail   \\\n",
       "1       YGO          Box  Ygo Speed Duel Gx Box         24  16.5      25   \n",
       "2       YGO  Booster box   Ghost From the Past 1         9    90     140   \n",
       "3       PKM     Lunchbox        Arcius Lunchbox         15  16.5      25   \n",
       "4       PKM      Giftbox          Arcius Giftbox         5  18.5      25   \n",
       "5       PKM      Giftbox        Pikachu V Union          3  18.5      30   \n",
       "\n",
       "  Total Cost Total Retail  \n",
       "1      396.0          600  \n",
       "2        810         1260  \n",
       "3      247.5          375  \n",
       "4       92.5          125  \n",
       "5       55.5           90  "
      ]
     },
     "execution_count": 54,
     "metadata": {},
     "output_type": "execute_result"
    }
   ],
   "source": [
    "df.head()"
   ]
  },
  {
   "cell_type": "code",
   "execution_count": 61,
   "metadata": {},
   "outputs": [
    {
     "data": {
      "text/plain": [
       "<AxesSubplot:xlabel='Product name '>"
      ]
     },
     "execution_count": 61,
     "metadata": {},
     "output_type": "execute_result"
    },
    {
     "data": {
      "image/png": "[encoded data removed]",
      "text/plain": [
       "<Figure size 432x288 with 1 Axes>"
      ]
     },
     "metadata": {
      "needs_background": "light"
     },
     "output_type": "display_data"
    }
   ],
   "source": [
    "df.plot.bar(x = df.columns[2],y = \"Total Cost\")"
   ]
  },
  {
   "cell_type": "code",
   "execution_count": 67,
   "metadata": {},
   "outputs": [
    {
     "data": {
      "text/plain": [
       "<AxesSubplot:>"
      ]
     },
     "execution_count": 67,
     "metadata": {},
     "output_type": "execute_result"
    },
    {
     "data": {
      "image/png": "[encoded data removed]",
      "text/plain": [
       "<Figure size 432x288 with 1 Axes>"
      ]
     },
     "metadata": {
      "needs_background": "light"
     },
     "output_type": "display_data"
    }
   ],
   "source": [
    "cost = df[\"Total Cost\"]\n",
    "cost.plot.box()"
   ]
  },
  {
   "cell_type": "code",
   "execution_count": 68,
   "metadata": {},
   "outputs": [
    {
     "data": {
      "text/plain": [
       "<AxesSubplot:>"
      ]
     },
     "execution_count": 68,
     "metadata": {},
     "output_type": "execute_result"
    },
    {
     "data": {
      "image/png": "[encoded data removed]",
      "text/plain": [
       "<Figure size 432x288 with 1 Axes>"
      ]
     },
     "metadata": {
      "needs_background": "light"
     },
     "output_type": "display_data"
    }
   ],
   "source": [
    "retail = df[\"Total Retail\"]\n",
    "retail.plot.box()"
   ]
  },
  {
   "cell_type": "code",
   "execution_count": null,
   "metadata": {},
   "outputs": [],
   "source": []
  }
 ],
 "metadata": {
  "interpreter": {
   "hash": "976d656e89d0a9cf91ecfb4a134be3174c143c7b49f33714545bc0a56a2580d8"
  },
  "kernelspec": {
   "display_name": "Python 3.10.4 ('venv': venv)",
   "language": "python",
   "name": "python3"
  },
  "language_info": {
   "codemirror_mode": {
    "name": "ipython",
    "version": 3
   },
   "file_extension": ".py",
   "mimetype": "text/x-python",
   "name": "python",
   "nbconvert_exporter": "python",
   "pygments_lexer": "ipython3",
   "version": "3.10.4"
  },
  "orig_nbformat": 4
 },
 "nbformat": 4,
 "nbformat_minor": 2
}
