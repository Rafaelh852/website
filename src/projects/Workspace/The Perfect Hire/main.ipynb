{
 "cells": [
  {
   "cell_type": "code",
   "execution_count": null,
   "metadata": {},
   "outputs": [],
   "source": []
  },
  {
   "cell_type": "markdown",
   "metadata": {},
   "source": [
    "# The Perfect Hire\n",
    "Exploring the hiring process by modeling and learning from data"
   ]
  },
  {
   "cell_type": "markdown",
   "metadata": {},
   "source": [
    "## The Hiring Process\n",
    "The hiring process has been notorious for being dificult and lengthy.\n",
    "requiring a lot of resources to make it happen. It is a very costly process if done wrong.\n",
    "\n",
    "a few questions come to mind. \n",
    "- How do we improve this process?\n",
    "- what has been done?\n",
    "- what are"
   ]
  },
  {
   "cell_type": "markdown",
   "metadata": {},
   "source": [
    "## Modeling the Process\n",
    "\n",
    "### Assumptions\n",
    "The hiring process is not consistent between companies. So we will model a process \n",
    "\n",
    "have to be made in order to proceed even th\n",
    "we know that once a candidate creates a resume they are prescreened for key words\n",
    "    this reduces the candidate pool so that it can be easier for someone to manually go throught it\n",
    "next a quality check is performed where "
   ]
  },
  {
   "cell_type": "markdown",
   "metadata": {},
   "source": []
  }
 ],
 "metadata": {
  "kernelspec": {
   "display_name": "Python 3.9.13 64-bit (microsoft store)",
   "language": "python",
   "name": "python3"
  },
  "language_info": {
   "name": "python",
   "version": "3.9.13"
  },
  "orig_nbformat": 4,
  "vscode": {
   "interpreter": {
    "hash": "3b3835be260164eeba554bc19f29c878e00523816e5d796517ac2a0ae4bba131"
   }
  }
 },
 "nbformat": 4,
 "nbformat_minor": 2
}
