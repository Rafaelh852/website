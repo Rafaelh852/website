{
 "cells": [
  {
   "cell_type": "code",
   "execution_count": null,
   "metadata": {},
   "outputs": [],
   "source": []
  },
  {
   "cell_type": "markdown",
   "metadata": {},
   "source": [
    "# The Perfect Hire\n",
    "Exploring the hiring process by modeling and learning from data"
   ]
  },
  {
   "cell_type": "markdown",
   "metadata": {},
   "source": [
    "## The Hiring Process\n",
    "The hiring process has been notorious for being dificult and lengthy. requiring a lot of resources to make it happen. It is a very costly process if done wrong.\n",
    "\n",
    "a few questions come to mind. \n",
    "- How do we improve this process?\n",
    "- what has been done?\n",
    "- what are"
   ]
  },
  {
   "cell_type": "markdown",
   "metadata": {},
   "source": [
    "## Modeling the Process\n",
    "\n",
    "### Assumptions\n",
    "The hiring process is not consistent between companies. So we will model a process \n",
    "\n",
    "have to be made in order to proceed even th\n",
    "we know that once a candidate creates a resume they are prescreened for key words\n",
    "    this reduces the candidate pool so that it can be easier for someone to manually go throught it\n",
    "next a quality check is performed where "
   ]
  },
  {
   "cell_type": "markdown",
   "metadata": {},
   "source": []
  }
 ],
 "metadata": {
  "language_info": {
   "name": "python"
  },
  "orig_nbformat": 4
 },
 "nbformat": 4,
 "nbformat_minor": 2
}
