{
 "cells": [
  {
   "cell_type": "code",
   "execution_count": 16,
   "metadata": {},
   "outputs": [],
   "source": [
    "import os\n",
    "import markdown\n",
    "from bs4 import BeautifulSoup"
   ]
  },
  {
   "cell_type": "code",
   "execution_count": 17,
   "metadata": {},
   "outputs": [],
   "source": [
    "# path for markdown files md\n",
    "content_path = \"./src/content/\"\n",
    "\n",
    "# path to store source paths\n",
    "post_path = \"./src/posts/\"\n",
    "\n",
    "#gets directorfiles\n",
    "content_filename = os.listdir(content_path)\n",
    "post_filename = os.listdir(post_path)\n"
   ]
  },
  {
   "cell_type": "code",
   "execution_count": 40,
   "metadata": {},
   "outputs": [],
   "source": [
    "#file[:-3] is the name of the file \n",
    "\n",
    "for file in content_filename:\n",
    "    with open(content_path + file,\"r\") as md_file:\n",
    "        #creates markdown handler object\n",
    "        md = markdown.Markdown(extensions=[\"meta\"])\n",
    "        \n",
    "        #reads markdown file as txt\n",
    "        m = md_file.read()\n",
    "\n",
    "        #parses md file using markdown handler\n",
    "        body = md.convert(m)\n",
    "\n",
    "        #extracts meta data from file\n",
    "        meta = md.Meta\n",
    "\n",
    "        #creates js file in post path in jsx format\n",
    "        with open( post_path + file[:-3] + \".js\",\"w\") as js_file:\n",
    "            js_article = '''import React from \"react\";\n",
    "\n",
    "const %s = () => {\n",
    "\n",
    "    return (<div>%s </div>)\n",
    "};\n",
    "        \n",
    "export default %s ;''' % (\"A\" + file[:-3],body,\"A\" + file[:-3])\n",
    "\n",
    "            js_file.write(js_article)\n",
    "\n",
    "        # make index jsx? for ease of exporting\n",
    "          "
   ]
  }
 ],
 "metadata": {
  "kernelspec": {
   "display_name": "Python 3.10.4 ('venv': venv)",
   "language": "python",
   "name": "python3"
  },
  "language_info": {
   "codemirror_mode": {
    "name": "ipython",
    "version": 3
   },
   "file_extension": ".py",
   "mimetype": "text/x-python",
   "name": "python",
   "nbconvert_exporter": "python",
   "pygments_lexer": "ipython3",
   "version": "3.10.4"
  },
  "orig_nbformat": 4,
  "vscode": {
   "interpreter": {
    "hash": "976d656e89d0a9cf91ecfb4a134be3174c143c7b49f33714545bc0a56a2580d8"
   }
  }
 },
 "nbformat": 4,
 "nbformat_minor": 2
}
